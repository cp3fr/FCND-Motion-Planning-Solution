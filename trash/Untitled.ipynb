{
 "cells": [
  {
   "cell_type": "code",
   "execution_count": 2,
   "metadata": {},
   "outputs": [
    {
     "name": "stdout",
     "output_type": "stream",
     "text": [
      "===========\n",
      "[1. 0.]\n",
      "[-1.  0.]\n",
      "[-1.  1.]\n",
      "[0. 1.]\n",
      "1.5707963267948966\n",
      "90.0\n",
      "===========\n",
      "[1. 0.]\n",
      "[-1.  1.]\n",
      "[0. 1.]\n",
      "[1. 0.]\n",
      "0.0\n",
      "0.0\n",
      "===========\n",
      "[1. 0.]\n",
      "[0. 1.]\n",
      "[-1.  1.]\n",
      "[-1.  0.]\n",
      "3.141592653589793\n",
      "180.0\n"
     ]
    }
   ],
   "source": [
    "import numpy as np\n",
    "\n",
    "path = [(-1.,0), (-1.,1.), (0.,1.), (-1.,1.)]\n",
    "\n",
    "for i in range(len(path)-1):\n",
    "    \n",
    "    #north\n",
    "    p0 = np.array([1.,0.])\n",
    "\n",
    "    #current waypoint\n",
    "    p1 = np.array([path[i][0], path[i][1]])\n",
    "\n",
    "    #next waypoint\n",
    "    p2 = np.array([path[i+1][0], path[i+1][1]])\n",
    "\n",
    "    p12 =  p2-p1\n",
    "\n",
    "    # #angle between north and next waypoin\n",
    "    angle = np.arccos(np.dot(p0, p12) / (np.linalg.norm(p0) * np.linalg.norm(p12)))\n",
    "    \n",
    "    print('===========')\n",
    "    print(p0)\n",
    "    print(p1)\n",
    "    print(p2)\n",
    "    print(p12)\n",
    "    print(angle)\n",
    "    print(np.rad2deg(angle))\n",
    "    \n",
    "\n"
   ]
  },
  {
   "cell_type": "code",
   "execution_count": null,
   "metadata": {},
   "outputs": [],
   "source": []
  }
 ],
 "metadata": {
  "kernelspec": {
   "display_name": "Python 3",
   "language": "python",
   "name": "python3"
  },
  "language_info": {
   "codemirror_mode": {
    "name": "ipython",
    "version": 3
   },
   "file_extension": ".py",
   "mimetype": "text/x-python",
   "name": "python",
   "nbconvert_exporter": "python",
   "pygments_lexer": "ipython3",
   "version": "3.6.3"
  }
 },
 "nbformat": 4,
 "nbformat_minor": 4
}
